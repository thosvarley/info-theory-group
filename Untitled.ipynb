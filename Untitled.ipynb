{
 "cells": [
  {
   "cell_type": "code",
   "execution_count": 1,
   "metadata": {},
   "outputs": [],
   "source": [
    "import numpy as np \n",
    "from collections import Counter \n",
    "import matplotlib.pyplot as plt\n",
    "%matplotlib inline\n",
    "from scipy.stats import zscore, entropy\n",
    "from copy import deepcopy\n",
    "\n",
    "data = np.load(\"data/HCP_BOLD.npz\")\n",
    "bold = zscore(data[\"signal\"], axis=1)\n",
    "\n",
    "discrete = deepcopy(bold) #This is a handy utility function, for Python-people whow haven't seen it before. \n",
    "discrete[discrete > 0] = 1 #Numpy indexing at work.\n",
    "discrete[discrete < 0] = 0\n",
    "discrete = discrete.astype(\"int16\") #Use small integers if you can get away with it. Easier on RAM. "
   ]
  },
  {
   "cell_type": "code",
   "execution_count": 2,
   "metadata": {
    "scrolled": true
   },
   "outputs": [
    {
     "data": {
      "text/plain": [
       "<matplotlib.image.AxesImage at 0x7f767be0eaf0>"
      ]
     },
     "execution_count": 2,
     "metadata": {},
     "output_type": "execute_result"
    },
    {
     "data": {
      "image/png": "[encoded data removed]",
      "text/plain": [
       "<Figure size 1080x360 with 1 Axes>"
      ]
     },
     "metadata": {
      "needs_background": "light"
     },
     "output_type": "display_data"
    }
   ],
   "source": [
    "X = discrete[0]\n",
    "Y = discrete[1]\n",
    "\n",
    "plt.figure(figsize=(15,5))\n",
    "plt.imshow(np.vstack((X, Y))[:,:250], aspect=\"auto\")"
   ]
  },
  {
   "cell_type": "code",
   "execution_count": 3,
   "metadata": {},
   "outputs": [],
   "source": [
    "C_X = Counter(X)\n",
    "C_Y = Counter(Y)\n",
    "C_zip = Counter(zip(X,Y))\n",
    "\n",
    "P_X = {key : C_X[key] / sum(C_X.values()) for key in C_X.keys()}\n",
    "P_Y = {key : C_Y[key] / sum(C_Y.values()) for key in C_Y.keys()}\n",
    "P_zip = {key : C_zip[key] / sum(C_zip.values()) for key in C_zip.keys()}"
   ]
  },
  {
   "cell_type": "code",
   "execution_count": 10,
   "metadata": {
    "scrolled": true
   },
   "outputs": [
    {
     "name": "stdout",
     "output_type": "stream",
     "text": [
      "[(0, 1), (0, 0)]\n",
      "{0: 0.5, 1: 0.5}\n",
      "[0.19083333333333333, 0.2783333333333333]\n",
      "[0.40674955595026646, 0.5932504440497336]\n"
     ]
    }
   ],
   "source": [
    "print([x for x in P_zip.keys() if x[0] == 0])\n",
    "print(P_Y)\n",
    "print([P_zip[x] for x in P_zip.keys() if x[0] == 0])\n",
    "l = [P_zip[x] for x in P_zip.keys() if x[0] == 0]\n",
    "print([x / sum(l) for x in l])"
   ]
  },
  {
   "cell_type": "code",
   "execution_count": 12,
   "metadata": {},
   "outputs": [
    {
     "data": {
      "text/plain": [
       "-0.29778732398328556"
      ]
     },
     "execution_count": 12,
     "metadata": {},
     "output_type": "execute_result"
    }
   ],
   "source": [
    "np.log2(0.40674955595026646 / 0.5)"
   ]
  }
 ],
 "metadata": {
  "kernelspec": {
   "display_name": "Python 3",
   "language": "python",
   "name": "python3"
  },
  "language_info": {
   "codemirror_mode": {
    "name": "ipython",
    "version": 3
   },
   "file_extension": ".py",
   "mimetype": "text/x-python",
   "name": "python",
   "nbconvert_exporter": "python",
   "pygments_lexer": "ipython3",
   "version": "3.8.3"
  }
 },
 "nbformat": 4,
 "nbformat_minor": 4
}
