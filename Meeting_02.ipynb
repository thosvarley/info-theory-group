{
 "cells": [
  {
   "cell_type": "markdown",
   "metadata": {},
   "source": [
    "# Group Meeting 2\n",
    "\n",
    "Shannon information content, entropy, joint/multivariate/residual entropy.\n",
    "\n",
    "### Readings \n",
    "\n",
    "Chapter 3, up through 3.2.1 of Bossomaier et al. (stop when you get to Mutual Information), https://link.springer.com/book/10.1007/978-3-319-43222-9\n",
    "\n",
    "\n",
    "Sections 1.1, 1.2, 1.3 of Feldman's tutorial notes.\n",
    "http://hornacek.coa.edu/dave/Tutorial/notes.pdf\n",
    "\n",
    "**\"Extra Credit\" Reading**: Simon DeDeo's *\"Information Theory for Intelligent People\"* \n",
    "http://tuvalu.santafe.edu/~simon/it.pdf\n",
    "\n",
    "### Data\n",
    "We'll be working with the same, binarized, HCP data as last time. "
   ]
  },
  {
   "cell_type": "code",
   "execution_count": 1,
   "metadata": {},
   "outputs": [],
   "source": [
    "import numpy as np \n",
    "import matplotlib.pyplot as plt \n",
    "%matplotlib inline \n",
    "import seaborn as sns #Seaborn is a wrapper for matplotlib - it makes everything prettier.\n",
    "sns.set(style=\"white\")\n",
    "from copy import deepcopy\n",
    "from collections import Counter\n",
    "from scipy.stats import zscore\n",
    "\n",
    "#To save disk space, I've saved the HCP data as a compressed .npz array.\n",
    "#You can load it into the workspace with np.load(), although it cannot be directly accessed. \n",
    "data = np.load(\"data/HCP_BOLD.npz\")\n",
    "bold = zscore(data[\"signal\"], axis=1) #Z-scored for data-hygiene reasons.\n",
    "#For those that don't know: to z-score data is to subtract the mean, and divide by the standard deviation. \n",
    "#This results in data distributed around 0 w/ unit deviation. It does not make things Gaussian, but makes \n",
    "#things generally nicer.\n",
    "\n",
    "discrete = deepcopy(bold) #This is a handy utility function, for Python-people whow haven't seen it before. \n",
    "discrete[discrete > 0] = 1 #Numpy indexing at work.\n",
    "discrete[discrete < 0] = 0\n",
    "discrete = discrete.astype(\"int16\") #Use small integers if you can get away with it. Easier on RAM. "
   ]
  },
  {
   "cell_type": "markdown",
   "metadata": {},
   "source": [
    "## Premise:\n",
    "Information Theory is about:\n",
    "\n",
    "1) Quantifying your uncertainty about the world. \n",
    "\n",
    "2) Quantifying how much \"work\" you need to do to reduce your uncertainty. \n",
    "\n",
    "\n",
    "### Surprise\n",
    "\n",
    "Surprise is (one) way to quantify our uncertainty about the future. If a system is highly predictable (we have a high degree of uncertainty), when we observe it, it's state is rarely surprisng. If a usually-predictable system does something very unlikely, we are quite surprised. \n",
    "\n",
    "At it's most basic level, \"surprise\" measures exactly that: how surprised are you to see our random variable in a particular state. We can think of some basic properties we might want it to have: \n",
    "- It should be 0 if you knew what the state would be with total certainty. \n",
    "- It should be inversely related to probability (i.e. the less probable a result is, the more surprising it is).\n",
    "- It would be nice if it behaved in reasonable ways (not blowing up rapidly to $\\infty$ or shrinking down to something like $10^{-50}$). \n",
    "- We would like it if, for two independent events, the surprise at seeing both together was equal to the sum of their individual surprises. \n",
    "\n",
    "\\begin{equation}\n",
    "S(X=x, Y=y) = S(X=x)+S(Y=y)\n",
    "\\end{equation}\n",
    "\n",
    "\n",
    "The intuition here is that, if I flip two coins at the same time and get $Heads, Heads$, that should not be any more surprising than if I flip one coin and get $Heads$ and then flip the same coin again and get $Heads$ again.\n",
    "\n",
    "Conviently, Claude Shannon provided a surprise function one for us:\n",
    "\n",
    "\\begin{equation}\n",
    "S(X=x) = \\log_2\\big(\\frac{1}{P(X=x)}\\big)\n",
    "\\end{equation}\n",
    "\n",
    "If we work through the same contrived example, we get:\n",
    "\n",
    "\\begin{equation}\n",
    "\\log_2(\\frac{1}{1/4}) = \\log_2(\\frac{1}{1/2}) + \\log_2(\\frac{1}{1/2}) = 2\n",
    "\\end{equation}\n",
    "\n",
    "Here's a general proof that the formula $\\log(\\frac{1}{P(X=x)})$ satisfies our additivity criteria for independent events. I'm going through the algebra in more detail than you usually see, in case we have readers who don't quite remember their rules for logarithms.\n",
    "\n",
    "\\begin{eqnarray}\n",
    "S_{XY}(x,y) &=& \\log\\big(\\frac{1}{P_{XY}(x,y)}\\big) \\\\\n",
    "&=& -\\log(P_{XY}(x,y)) \\\\\n",
    "&=& -\\log(P_X(x)P_Y(y)) \\\\\n",
    "&=& -1\\times(\\log(P_X(x)) + \\log(P_Y(y))) \\\\\n",
    "&=& -\\log(P_X(x)) - \\log(P_Y(y))) \\\\\n",
    "&=& \\log\\big(\\frac{1}{P_X(x)}\\big) + \\log\\big(\\frac{1}{P_Y(y)}\\big) \n",
    "\\end{eqnarray}\n",
    "\n",
    "If you're looking at the above algebraic derivation thinking \"holy crap I have no idea what's happenign here\", go back and review the rules for logarithms. \n",
    "\n",
    "Some quick plots so what we can see what the surprise function looks like. Notice that, in addition to satisfying the additivity criteria, the log-based surprise also remains (reasonably) large even as the probability goes to 1, which makes computation much easier."
   ]
  },
  {
   "cell_type": "markdown",
   "metadata": {},
   "source": [
    "### Shannon Entropy\n",
    "\n",
    "Moving on from conditional probability (which was the final \"atom\" of probability theory we needed), now we have all tools required to really dig into entropy. There are three ways that entropy of a single variable (the Shannon entropy) is commonly intuitively understood, all are equivalent, mathematically, and it is worth considering how these three definitions relate to each-other. \n",
    "\n",
    "1) **Entropy as the expected surprise.** Recall that the expected value of a distribution $P(X)$ under some value function $f(x)$ is given by:\n",
    "\n",
    "\\begin{equation}\n",
    "E[P(X)] = \\sum_{x\\in\\mathcal{X}} P(X=x)f(X=x)\n",
    "\\end{equation}\n",
    "\n",
    "When our value function is the \"surprisal\" (also called the Shannon information content) given by $\\log\\big(\\frac{1}{P(X=x)}\\big)$, then we define the entropy of a distribution $H(X)$ as:\n",
    "\n",
    "\\begin{eqnarray}\n",
    "H(X) &=& \\sum_{x\\in\\mathcal{X}}P(X=x)\\log\\big(\\frac{1}{P(X=x)}\\big) \\\\\n",
    "&=& -\\sum_{x\\in\\mathcal{X}}P(X=x)\\log\\big(P(X=x)\\big)\n",
    "\\end{eqnarray}\n",
    "\n",
    "Note that, while $\\log(0)$ and $0\\times\\log(0)$ are technically undefined, by convention, $0\\times\\log(0)=0$ in information theory. Plot the fuction $f(x)=x\\log(x)$ to see why that is not totally innapropriate. The intuition is that this ensures that elements outside of $\\mathcal{X}$ have no effect on the information-structure of the variable.\n",
    "\n",
    "Typically the lower form is what is seen most commonly, although they are identical. This perspective defines entropy as a measure of, on average, how surprising is every individual possible outcome of $X$. Conviently, entropy is *always positive.* In general, if you have gotten a negative value of $H(X)$, you have done something terribly wrong. Negative information values (almost) never make sense.\n",
    "\n",
    "2) **Entropy as the average number of yes/no quesitons needed to determine the value of a variable.** The intuition for this is reasonably clear. Imagine some variable $X$ with the following probability distribution: $P(X) := \\{P(X=x_1)=1/2, P(X=x_2)=1/4, P(X=x_3)=1/4\\}$. If you were playing a game where you knew that distribution, but not the actual value of $X$ and wanted to guess the state of $X$ using the fewest number of yes/no quesitons, how would you play? \n",
    "\n",
    "You'd start by asking \"is $X=x_1$?\" Half the time, you'd be right, and the game would be over. \n",
    "\n",
    "If it's not $x_1$, then the obvious next question to ask is \"is $X=x_2$?\" After all, if it's not $x_1$, then it's just as likely to be $x_2$ as it is to be $x_3$. \n",
    "\n",
    "If it turns out you're wrong about it being $x_2$, you automatically know it's $x_3$ and the game is over. If we calculate the average number of questions asked, it works out to be:\n",
    "\n",
    "\\begin{equation}\n",
    "H(X) = \\frac{1}{2}(1) + \\frac{1}{2}(2) = 1.5\\text{ bit}\n",
    "\\end{equation}\n",
    "\n",
    "If we plug the distribution above into $-\\sum (P(X)\\log(P(X))$ above, we get the same number out.\n",
    "\n",
    "3) **Entropy as uncertainty about the state of a variable.** Finally, the intuition most commonly used in Complex Systems is that entropy quantifies how uncertain we about the state of the variable (or system) under study. As Feldman notes, Shannon's entropy function satisfies a number of intuitions. Namely that: when the state of the system is known with certainty, the entropy should be $0$ (i.e. there is no uncertainty) and when the probability distribution of states is flat, entropy is maximal (i.e. we have no reason to expect any state over any other). Furthermore, we would like the entropy is invariant under different groupings of states (again, see Feldman 1.2.1 for an example), and that the function itself is continous (no weird asymptotes, small changes in $P(X)$ lead onlly to small changes in $H(X)$).\n",
    "\n",
    "You can prove (although we won't here) that the *only* function that satisfies those four criteria is $H(X) = -\\sum P(X)\\log(P(X))$.\n",
    "\n",
    "### Joint Entropy \n",
    "\n",
    "As with probabilities, we can quantify how much uncertainty is contained within two variables, and like the other information theory measures, it is typically given as the expectation over a distribution of (joint) states (although the other two interpretations are also equally valid).\n",
    "\n",
    "\\begin{equation}\n",
    "H(X,Y) = \\sum_{x\\in\\mathcal{X}}\\sum_{y\\in\\mathcal{Y}}P(X=x, Y=y)\\log(P(X=x,Y=y))\n",
    "\\end{equation}\n",
    "\n",
    "The joint entropy generalizes to multivariate systems quite nicely:\n",
    "\n",
    "\\begin{equation}\n",
    "H(X_1,...X_n) = -\\sum_{x_1\\in\\mathcal{X_1}}...\\sum_{x_n\\in\\mathcal{X_n}}P(x_1...x_n)\\log(P(x_1...x_n))\n",
    "\\end{equation}\n",
    "\n",
    "(Note we have compactified the notation here, which we will do from here on out). \n",
    "You can also look at the joint states of groups of variables, in which case we often concatenate them without commas. For example, for four variables, we might be interested in the joint states of {X,Y} and {A,B}, which we would write $H(XY,AB)$.\n",
    "\n",
    "We have already briefly explored constructing joint probability spaces in the last Notebook, but will revisit the essential logic here, again. "
   ]
  },
  {
   "cell_type": "code",
   "execution_count": 74,
   "metadata": {
    "scrolled": true
   },
   "outputs": [
    {
     "name": "stdout",
     "output_type": "stream",
     "text": [
      "H(Ch0,Ch1) = 1.975\n"
     ]
    }
   ],
   "source": [
    "#These have already been defined above - showing it again just for completeness sake. \n",
    "C_joint = Counter(list(zip(ch0, ch1)))\n",
    "probs_joint = {key : C_joint[key] / sum(C_joint.values()) for key in C_joint.keys()}\n",
    "\n",
    "H_joint = -1*sum((probs_joint[key]*np.log2(probs_joint[key]) for key in probs_joint.keys()))\n",
    "print(\"H(Ch0,Ch1) =\", round(H_joint, 3))"
   ]
  },
  {
   "cell_type": "markdown",
   "metadata": {},
   "source": [
    "From this we can see that the joint entropy is slightly lower than what we would expect if both channels were totally random (i.e. $P(Ch 0 = 0) = P(Ch 0 = 1) = 1/2$) and both were independent. This highlights a nice property of joint entropy: the joint entropy will always be *less* that the sum of the individual entropies togther, but greater than any single consituent entropy considered alone. \n",
    "\n",
    "The logic is the same if we include more channels. "
   ]
  },
  {
   "cell_type": "code",
   "execution_count": 43,
   "metadata": {},
   "outputs": [
    {
     "data": {
      "text/plain": [
       "Counter({(0, 0, 0, 0): 180,\n",
       "         (0, 0, 0, 1): 48,\n",
       "         (0, 0, 1, 0): 76,\n",
       "         (0, 0, 1, 1): 30,\n",
       "         (0, 1, 0, 0): 105,\n",
       "         (0, 1, 0, 1): 76,\n",
       "         (0, 1, 1, 0): 18,\n",
       "         (0, 1, 1, 1): 30,\n",
       "         (1, 0, 0, 0): 47,\n",
       "         (1, 0, 0, 1): 23,\n",
       "         (1, 0, 1, 0): 100,\n",
       "         (1, 0, 1, 1): 96,\n",
       "         (1, 1, 0, 0): 32,\n",
       "         (1, 1, 0, 1): 90,\n",
       "         (1, 1, 1, 0): 38,\n",
       "         (1, 1, 1, 1): 211})"
      ]
     },
     "execution_count": 43,
     "metadata": {},
     "output_type": "execute_result"
    }
   ],
   "source": [
    "ch2, ch3 = discrete[2], discrete[3]\n",
    "C_joint = Counter(list(zip(ch0, ch1, ch2, ch3)))\n",
    "C_joint"
   ]
  },
  {
   "cell_type": "code",
   "execution_count": 44,
   "metadata": {},
   "outputs": [
    {
     "name": "stdout",
     "output_type": "stream",
     "text": [
      "H(Ch0,Ch1,Ch2,Ch3) = 3.281\n"
     ]
    }
   ],
   "source": [
    "probs_joint = {key : C_joint[key] / sum(C_joint.values()) for key in C_joint.keys()}\n",
    "\n",
    "H_joint = -1*sum({probs_joint[key]*np.log2(probs_joint[key]) for key in probs_joint.keys()})\n",
    "print(\"H(Ch0,Ch1,Ch2,Ch3) =\", round(H_joint, 3))"
   ]
  },
  {
   "cell_type": "markdown",
   "metadata": {},
   "source": [
    "### Conditional Entropy\n",
    "\n",
    "Conditional entropy is the uncertainty you have about a variable $X$, after accounting for the states of variable $Y$. It is very important that you remember that entropy is *uncertainty* - you can think of the conditional entropy as the uncertainty in $X$ that is intrinsic to it, or not explicable using information about the state of $Y$.\n",
    "\n",
    "Typically denoted as:\n",
    "\n",
    "\\begin{equation}\n",
    "H(X | Y) = -\\sum_{x\\in\\mathcal{X}}\\sum_{y\\in\\mathcal{Y}}P(X,Y)\\log(P(X|Y))\n",
    "\\end{equation}\n",
    "\n",
    "This formula may look a little surprising (we are used to things for the form $P(X)f(P(X))$, but here we have a conditional probability on the inside of the log and and joint probability outside of it). This has to do with needing to condition all possible states of $X$ on all possible states of $Y$. If we are only interested in one possible state of $Y$, then the restricted conditional entropy is\n",
    "\n",
    "\\begin{equation}\n",
    "H(X | Y=y) = -\\sum_{x\\in\\mathcal{X}}P(X|Y=y)\\log(X|Y=y)\n",
    "\\end{equation}\n",
    "\n",
    "Which is in the more familiar shape of an entropy measure. Unfortunately, this only accounts for the effect of a specific state $y$. If we want information from all possible states of $Y$, we need to average over the distribution of $Y$'s states, which becomes:\n",
    "\n",
    "\\begin{equation}\n",
    "H(X | Y) = \\sum_{y\\in\\mathcal{Y}}P(Y=y)H(X|Y=y)\n",
    "\\end{equation}\n",
    "\n",
    "What we have here, then is nested expectations: the expected entropy of $X$ given some static $Y=y$, and then the expected value of *that* over all possible static $Y=y$ states. This also explains why the equation immediatley above doesn't have the negative sign in front of it: that negative is \"hidden\" in $H(X|Y=y)$.\n",
    "\n",
    "When you work out the math, you get the original formulation given above. \n",
    "\n",
    "Conditional entropy can also be written in terms of joint and individual entropies:\n",
    "\n",
    "\\begin{equation}\n",
    "H(X|Y) = H(X,Y) - H(Y)\n",
    "\\end{equation}\n",
    "\n",
    "Intuitively, this makes sense: the uncertainty about $X$ conditioned on $Y$ is the amount of uncertainty *left over* when you remove the uncertainty from $Y$ from the joint states of both. Again, it is important to remember that entropy is a measure of *uncertainty* NOT *information.* There is a tendency for students to read $H(X|Y)$ as \"the information that $Y$ gives me about $X$. This is NOT the case. It is the uncertainty about $X$ left over when information about the state $Y$ is accounted for. "
   ]
  },
  {
   "cell_type": "code",
   "execution_count": 75,
   "metadata": {},
   "outputs": [
    {
     "name": "stdout",
     "output_type": "stream",
     "text": [
      "0.9972551344471869\n",
      "1.0\n",
      "H(Ch0 | Ch1) =  0.9749626957207407\n",
      "H(Ch1 | Ch0) =  0.9777075612735537\n"
     ]
    }
   ],
   "source": [
    "#We can easily calculate the entropy of Ch. 0 given Ch. 1 and vice versa:\n",
    "C0 = Counter(ch0)\n",
    "C1 = Counter(ch1)\n",
    "\n",
    "probs_0 = {key : C0[key] / sum(C0.values()) for key in C0.keys()}\n",
    "probs_1 = {key : C1[key] / sum(C1.values()) for key in C1.keys()}\n",
    "\n",
    "C_joint = C_joint = Counter(list(zip(ch0, ch1))) #Again, this is already definiedm re-doing for completeness. \n",
    "probs_joint = {key : C_joint[key] / sum(C_joint.values()) for key in C_joint.keys()}\n",
    "\n",
    "H_0 = -1*sum((probs_0[key]*np.log2(probs_0[key]) for key in probs_0.keys()))\n",
    "H_1 = -1*sum((probs_1[key]*np.log2(probs_1[key]) for key in probs_1.keys()))\n",
    "\n",
    "print(H_0)\n",
    "print(H_1)\n",
    "\n",
    "H_joint = -sum((probs_joint[key]*np.log2(probs_joint[key]) for key in probs_joint.keys()))\n",
    "\n",
    "print(\"H(Ch0 | Ch1) = \", H_joint - H_1)\n",
    "print(\"H(Ch1 | Ch0) = \", H_joint - H_0)"
   ]
  },
  {
   "cell_type": "markdown",
   "metadata": {},
   "source": [
    "Note that these are *not* the same. The conditional entropy function is not symmetrical. Also the condtional probability $H(X|Y)$ will always be smaller than, or equal to $H(X)$, with equality if and only if $X$ and $Y$ are independenet. There is no circumstance in which knowing more about one variable decreases you ability to make predictions about the other."
   ]
  },
  {
   "cell_type": "markdown",
   "metadata": {},
   "source": [
    "### Relative Entropy (Kullback-Leibler Divergence)\n",
    "\n",
    "The relative entropy (or KLD) is a measure of how different two probability distributions (typically noted $P(X)$ and $Q(X)$).\n",
    "\n",
    "\\begin{equation}\n",
    "D_{KL}(P || Q) = \\sum_{x\\in\\mathcal{X}}P(X)\\log\\big(\\frac{P(X)}{Q(X)}\\big)\n",
    "\\end{equation}\n",
    "\n",
    "In the context of Bayesian inference, $D_{KL}(P||Q)$ gives the amount of information (or predictive power) gained when one updates one's prior beliefs ($Q(X)$) to the posterior distribution ($P(X)$). Alternately, it can be thought of as the amount of information lost when $Q(X)$ is used to approximate $P(X)$. \n",
    "\n",
    "Consider two distributions:"
   ]
  },
  {
   "cell_type": "code",
   "execution_count": 113,
   "metadata": {
    "scrolled": true
   },
   "outputs": [
    {
     "data": {
      "image/png": "[encoded data removed]",
      "text/plain": [
       "<Figure size 1080x360 with 3 Axes>"
      ]
     },
     "metadata": {},
     "output_type": "display_data"
    }
   ],
   "source": [
    "px = np.random.randint(1,101,5)\n",
    "px = px / np.sum(px)\n",
    "qx = np.repeat(1/5, 5)\n",
    "\n",
    "plt.figure(figsize=(15,5))\n",
    "plt.subplot(1,3,1)\n",
    "plt.bar(np.arange(5), px)\n",
    "plt.ylim([0,1])\n",
    "plt.title(\"P(X)\")\n",
    "plt.xlabel(\"X\")\n",
    "plt.ylabel(\"Probability\")\n",
    "\n",
    "plt.subplot(1,3,2)\n",
    "plt.bar(np.arange(5), qx)\n",
    "plt.ylim([0,1])\n",
    "plt.title(\"Q(X)\")\n",
    "plt.xlabel(\"X\")\n",
    "plt.ylabel(\"Probability\")\n",
    "\n",
    "plt.subplot(1,3,3)\n",
    "plt.bar(np.arange(5), np.log2(px/qx))\n",
    "plt.title(\"log(P(X)/Q(X))\")\n",
    "plt.xlabel(\"X\")\n",
    "plt.ylabel(\"Local KLD\")\n",
    "\n",
    "plt.tight_layout()"
   ]
  },
  {
   "cell_type": "markdown",
   "metadata": {},
   "source": [
    "We are interested in the element-wise differences between $Q(X=x)$ and $P(X=x)$.\n",
    "\n",
    "Working with the Shannon information content, we get $[-\\log(Q(X=x))] - [-\\log(P(X=x))]$. We subtract P(X) from Q(X) to get the \"error\" between the two distributions: how far is distribution $Q$ from distribution $P$? \n",
    "\n",
    "which can be factored to $-1(\\log(Q(X=x)) - \\log(P(X=x))$. \n",
    "\n",
    "The properties of the logarithm allow us to rewrite as $-1\\log\\big(\\frac{(Q(X=x))}{(P(X=x))}\\big)$\n",
    "\n",
    "Finally, we rewrite as $\\log\\big(\\frac{(P(X=x))}{(Q(X=x))}\\big)$\n",
    "\n",
    "Like other entropy measures, the DKL is an expectation value, over $P(X)$ (\"the posteriror\" in this context).\n",
    "\n",
    "One commonly-seen interpretation of the DKL is that it defines some kind of \"distance\" from $Q(X)$ to $P(X)$, however this is innapropriate, as the DKL doesn't define a true distance metric. It is true that $D_{KL}(P || Q) = 0$ if and only if $P(X) = Q(X)$, the measure itself is often non-symmetrical (i.e. $D_{KL}(P||Q) \\not= D_{KL}(Q||P)$! *This means that it is very important that you select your reference distribution with care.*\n",
    "\n",
    "Furthermore, there are restrictions on which distributions are valid entries for DKL. Specifically, $Q(X=x)$ can only equal $0$ if and only if $P(X=x)$ *also equals zero*, otherwise it is undefined (when both are zero, $x \\not\\in\\mathcal{X}$ and so the term is ignored, or considered to be equal to $0$).\n",
    "\n",
    "For a good video building intuition with a simple example (from a source-coding perspective, see: https://www.youtube.com/watch?v=LJwtEaP2xKA)\n",
    "\n",
    "##### Jensen-Shannon Divergence\n",
    "\n",
    "If, for whatever reason, you want a symmetric divergence between two probability distributions, the Jensen-Shannon divergence ($D_{JS}$ is:\n",
    "\n",
    "\\begin{equation}\n",
    "D_{JS}(P||Q) = \\frac{D_{KL}(P||M)+D_{KL}(Q||M)}{2}\n",
    "\\end{equation}\n",
    "\n",
    "where $M$ is the *mixture distribuiton* of $P(X)$ and $Q(X)$,\n",
    "\n",
    "\\begin{equation}\n",
    "M=\\frac{P + Q}{2}\n",
    "\\end{equation}\n",
    "\n",
    "From these moving parts (Shannon entropy, joint entropy, conditional entropy, and KLD), it is possible to build up essentailly every subsequent bit of information theory we will cover going forward, up until we get to partial-information decomposition at the end. "
   ]
  },
  {
   "cell_type": "code",
   "execution_count": null,
   "metadata": {},
   "outputs": [],
   "source": []
  },
  {
   "cell_type": "markdown",
   "metadata": {},
   "source": [
    "### Residual Entropy \n",
    "\n",
    "Residual entropy ($R(X)$) is a less-often used measure that (in my opinion) is extremely powerful and deserves more attention. It is also useful as a demonstration of how the various \"atomic\" entropies (Shannon, joint, condition) can be used to construct more complex measures that can provide deep insights into the structure of complex systems. \n",
    "\n",
    "The residual entropy is a measure of *how much uncertainty is intrinsic to a single element in a complex system.* For a multivariate system of interacting elements $\\textbf{X} = \\{X_1,X_2,...X_n\\}$\n",
    "\n",
    "\\begin{equation}\n",
    "R(X_i) = H(X_i | \\textbf{X}^{-i}) \n",
    "\\end{equation}\n",
    "\n",
    "Where $X^{-i} = \\{X_1, X_2,...X_{i-1}, X_{i+1},...X_n\\}$: that is to say, it is the joint-states of every element of $\\textbf{X}$ *other than $X_i$*. The residual entropy is then understood as the uncertainty in $X_i$ that cannot be resolved by observing any other elements (or combinations of elements) in the system $\\textbf{X}$.\n",
    "\n",
    "To calculate $R(X_i)$, recall that the conditional information can be decomposed into the joint and individual entropies of it's constituents. In this case, this will be two joint entropies: \n",
    "\n",
    "\\begin{equation}\n",
    "H(X_i|X^{-i}) = H(X_i,X^{-i}) - H(X^{-i}) \n",
    "\\end{equation}\n",
    "\n",
    "Obviously, $H(X_i,X^{-i}) = H(\\textbf{X})$ and $H(X^{-i})$ is the joint-entropy of every element excluding $X_i$.\n",
    "\n",
    "We can construct and calculate a simple example using the four channels selected earlier:"
   ]
  },
  {
   "cell_type": "code",
   "execution_count": 139,
   "metadata": {},
   "outputs": [
    {
     "name": "stdout",
     "output_type": "stream",
     "text": [
      "Residual entropy of Ch.0: 0.79908896364954\n",
      "Shannon entropy of Ch. 0 0.9972551344471869\n"
     ]
    }
   ],
   "source": [
    "ch0, ch1, ch2, ch3 = discrete[0], discrete[1], discrete[2], discrete[3]\n",
    "C_full = Counter(zip(ch0, ch1, ch2, ch3))\n",
    "probs_full = {key:C_full[key] / sum(C_full.values()) for key in C_full.keys()}\n",
    "\n",
    "#Suppose we want R(ch0) - we need the joint entropy of Ch. 1, 2, and 3.\n",
    "\n",
    "C_123 = Counter(zip(ch1, ch2, ch3))\n",
    "probs_123 = {key:C_123[key] / sum(C_123.values()) for key in C_123.keys()}\n",
    "\n",
    "H_full = -sum((probs_full[key]*np.log2(probs_full[key]) for key in probs_full.keys()))\n",
    "H_123 = -sum((probs_123[key]*np.log2(probs_123[key]) for key in probs_123.keys()))\n",
    "\n",
    "print(\"Residual entropy of Ch.0:\", H_full - H_123)\n",
    "print(\"Shannon entropy of Ch. 0\", H_0)"
   ]
  },
  {
   "cell_type": "markdown",
   "metadata": {},
   "source": [
    "We can see that there are $\\approx 0.8\\text{ bit}$ of structure in Ch. 0 that cannot be extracted by observing Ch. 1-3. That's about $80\\%$ of the entropy of the channel itself, which suggests that it is not super-constrainted by these three other elements.\n",
    "\n",
    "### Scipy.Stats' Entropy Function\n",
    "\n",
    "This is the last thing. Up until now, I've been calculate entropies \"manually\" using tuple and list comprehensions, so that you can see the structure of $P\\times\\log(P)$. You don't have to do this however: the Scipy.stats package has an entropy function that you can call on distributions (it will also do the KL-divergence if you feed it two disributions of equal length).\n",
    "\n",
    "Read the docs here: https://docs.scipy.org/doc/scipy/reference/generated/scipy.stats.entropy.html\n",
    "\n",
    "One thing to do aware of is that the default base for all the logarithms is $e$ (which outputs results in units of \"nats\", which are useful when combing information theory and thermodynamics). If you want your result in bits, make sure you specify the argument \"base=2\".\n",
    "\n",
    "If you feed it an unnormalized distribution (i.e. the values don't all sum to 1), it will normalize it for you. "
   ]
  },
  {
   "cell_type": "code",
   "execution_count": 153,
   "metadata": {
    "scrolled": true
   },
   "outputs": [
    {
     "name": "stdout",
     "output_type": "stream",
     "text": [
      "X (unnormed) [10 10 10 10 10 10 10 10 10 10]\n",
      "Entropy Function, Unnormed: 3.322 bit\n",
      " \n",
      "X_norm [0.1 0.1 0.1 0.1 0.1 0.1 0.1 0.1 0.1 0.1]\n",
      "Entropy Function, Normed 3.322 bit\n",
      " \n",
      "Entropy of X_norm, Default Base 2.303 nat\n"
     ]
    }
   ],
   "source": [
    "from scipy.stats import entropy\n",
    "\n",
    "X = np.repeat(10, 10) #A vector of 10 10s. This is *not* a probability distribution, and should be normalized. \n",
    "#Scipy.stats entropy function doesn't care.\n",
    "print(\"X (unnormed)\", X)\n",
    "print(\"Entropy Function, Unnormed:\", round(entropy(X, base=2),3), \"bit\")\n",
    "print(\" \")\n",
    "#If we normalize it, we get the maximum entropy distribution for a 10-state system.\n",
    "X_norm = X / np.sum(X)\n",
    "print(\"X_norm\", X_norm)\n",
    "print(\"Entropy Function, Normed\", round(entropy(X_norm, base=2),3), \"bit\")\n",
    "print(\" \")\n",
    "#Finally, note that if you forget to specify the base, the numbers can be surprising. \n",
    "print(\"Entropy of X_norm, Default Base\", round(entropy(X_norm),3), \"nat\")"
   ]
  },
  {
   "cell_type": "markdown",
   "metadata": {},
   "source": [
    "Note that if you are doing something that involves many calls to the entropy function and you forget to specify one of the bases, you can end up with bizzare things like $H(X|Y) > H(X)$. Be extra-careful with it."
   ]
  }
 ],
 "metadata": {
  "kernelspec": {
   "display_name": "Python 3",
   "language": "python",
   "name": "python3"
  },
  "language_info": {
   "codemirror_mode": {
    "name": "ipython",
    "version": 3
   },
   "file_extension": ".py",
   "mimetype": "text/x-python",
   "name": "python",
   "nbconvert_exporter": "python",
   "pygments_lexer": "ipython3",
   "version": "3.8.5"
  }
 },
 "nbformat": 4,
 "nbformat_minor": 2
}
